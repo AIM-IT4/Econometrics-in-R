{
  "nbformat": 4,
  "nbformat_minor": 0,
  "metadata": {
    "colab": {
      "provenance": []
    },
    "kernelspec": {
      "name": "python3",
      "display_name": "Python 3"
    },
    "language_info": {
      "name": "python"
    }
  },
  "cells": [
    {
      "cell_type": "code",
      "execution_count": null,
      "metadata": {
        "id": "xtO8vSkvpVra"
      },
      "outputs": [],
      "source": [
        "######################################################\n",
        "############# Econometrics - Time Series #############\n",
        "\n",
        "\n",
        "############\n",
        "# Packages #\n",
        "############\n",
        "install.packages(\"tseries\")\n",
        "library(tseries)\n",
        "\n",
        "########\n",
        "# Data #\n",
        "########\n",
        "df <- read.csv(file = \"xyz.csv\", header=TRUE)\n",
        "y <- ts(df, start = c(first date), frequency = 1)\n",
        "\n",
        "###################\n",
        "# Transformations #\n",
        "###################\n",
        "\n",
        "# Logarithm\n",
        "ly <- log(y)\n",
        "\n",
        "# Difference\n",
        "dy = diff(y, differences = 1)\n",
        "dly = diff(ly, differences = 1)\n",
        "\n",
        "############\n",
        "# Graphics #\n",
        "############\n",
        "par(mfrow=c(2,2))\n",
        "ts.plot(y, main=\"Time Series - Y\")\n",
        "ts.plot(ly, main=\"Time Series - LY\", col = \"blue\")\n",
        "ts.plot(dy, main=\"Time Series - DY\", col = \"darkgreen\")\n",
        "ts.plot(dly, main=\"Time Series - DLY\", col = \"red\")"
      ]
    }
  ]
}